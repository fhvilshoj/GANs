{
 "cells": [
  {
   "cell_type": "markdown",
   "metadata": {},
   "source": [
    "# Overview of articles\n",
    "\n",
    "**Week 1**: Generative adversarial nets ([Article](https://scholar.google.com/scholar_url?url=http://papers.nips.cc/paper/5423-generative-adversarial-nets.pdf&hl=en&sa=T&oi=gsb-gga&ct=res&cd=1&d=11977070277539609369&ei=33BIXMf1M8KVmAHyyJnQCg&scisig=AAGBfm1_PAGbFd1N3ZcQl_vwVHCEeKz1FQ), [Notebook](Week%201.%20Generative%20Adversarial%20Networks.ipynb))\n",
    "\n",
    "**Week 2**: f-GAN: Training Generative Neural Samplers using Variational Divergence Minimization ([Article](http://papers.nips.cc/paper/6066-f-gan-training-generative-neural-samplers-using-variational-divergence-minimization.pdf), [Notebook](Week%202.%20A%20General%20Framework%20for%20GANs.ipynb), [Notes](images/f-gan.jpg))\n",
    "\n",
    "**Week 3**: Wasserstein Generative Adversarial Networks ([Article](http://proceedings.mlr.press/v70/arjovsky17a/arjovsky17a.pdf), [Notebook](Week%203.%20How%20Moving%20Earth%20Changed%20GANs!.ipynb), [Notes](images/wasserstein.jpg))\n",
    "\n",
    "**Week 4**:Spectral Normalization for GANs ([Article](https://arxiv.org/pdf/1802.05957), [Notes](images/Spectral-normalization.jpg))\n",
    "\n",
    "**Week 5**: NIPS 2016 Tutorial: Generative Adversarial Networks ([Article](https://arxiv.org/pdf/1701.00160.pdf), [Notes](images/training-tricks.jpg))\n",
    "\n",
    "**Week 6**: InfoGAN: Interpretable Representation Learning by Information Maximizing Generative Adversarial Nets ([Article](https://arxiv.org/pdf/1606.03657.pdf), [Notes](images/info-GAN.jpg))\n",
    "\n",
    "**Week 7**: CycleGAN: Unpaired Image-to-Image Translation using Cycle-Consistent Adversarial Networks ([Article](http://openaccess.thecvf.com/content_ICCV_2017/papers/Zhu_Unpaired_Image-To-Image_Translation_ICCV_2017_paper.pdf), [Notes](images/cycle.jpg))\n",
    "\n",
    "**Week 8**: Evaluating GANs ([Article](https://arxiv.org/abs/1802.03446), [Board](images/evaluating_GANs.jpg), [Notes](images/measures.jpg))\n",
    "\n",
    "**Week 9**: Probably, the death of GANs (Flow Models) (\n",
    "    [[NICE](https://arxiv.org/abs/1410.8516),\n",
    "    [Real-NVP](https://arxiv.org/abs/1605.08803),\n",
    "    [GLOW](https://arxiv.org/abs/1807.03039)], \n",
    "    [Notes](images/flow.jpg))\n",
    "\n",
    "\n",
    "\n",
    "**Week 10**: 3D-Circular Convolutions ([Board](images/3d-convs.jpg), [Note](images/3d-Circular-convs-note.jpg))\n"
   ]
  }
 ],
 "metadata": {
  "kernelspec": {
   "display_name": "Python 3",
   "language": "python",
   "name": "python3"
  },
  "language_info": {
   "codemirror_mode": {
    "name": "ipython",
    "version": 3
   },
   "file_extension": ".py",
   "mimetype": "text/x-python",
   "name": "python",
   "nbconvert_exporter": "python",
   "pygments_lexer": "ipython3",
   "version": "3.7.2"
  }
 },
 "nbformat": 4,
 "nbformat_minor": 2
}
