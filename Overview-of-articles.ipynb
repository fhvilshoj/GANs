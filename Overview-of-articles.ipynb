{
 "cells": [
  {
   "cell_type": "markdown",
   "metadata": {},
   "source": [
    "# Overview of articles\n",
    "\n",
    "_Introductory articles:_  \n",
    "**Week 4**: Generative adversarial nets ([Article](https://scholar.google.com/scholar_url?url=http://papers.nips.cc/paper/5423-generative-adversarial-nets.pdf&hl=en&sa=T&oi=gsb-gga&ct=res&cd=1&d=11977070277539609369&ei=33BIXMf1M8KVmAHyyJnQCg&scisig=AAGBfm1_PAGbFd1N3ZcQl_vwVHCEeKz1FQ), [Notebook](Week%201.%20Generative%20Adversarial%20Networks.ipynb))\n",
    "\n",
    "**Week 5**: f-GAN: Training Generative Neural Samplers using Variational Divergence Minimization ([Article](http://papers.nips.cc/paper/6066-f-gan-training-generative-neural-samplers-using-variational-divergence-minimization.pdf), [Notebook](Week%202.%20A%20General%20Framework%20for%20GANs.ipynb))\n",
    "\n",
    "**Week 6**: Wasserstein Generative Adversarial Networks ([Article](http://proceedings.mlr.press/v70/arjovsky17a/arjovsky17a.pdf), [Notebook](Week%203.%20How%20Moving%20Earth%20Changed%20GANs!.ipynb))\n",
    "\n",
    "**Week 7**:Spectral Normalization for GANs ([Article](https://arxiv.org/pdf/1802.05957))\n",
    "\n",
    "\n",
    "**Week 8**: NIPS 2016 Tutorial: Generative Adversarial Networks ([Article](https://arxiv.org/pdf/1701.00160.pdf), [Notebook](nips-tutorial.ipynb))\n",
    "\n",
    "\n",
    "_Different types of GANs:_  \n",
    "\n",
    "**Week 9**: Infogan: Interpretable Representation Learning by Information Maximizing Generative Adversarial Nets ([Article](https://arxiv.org/pdf/1606.03657.pdf))\n",
    "\n",
    "**Week 10** Least Squares GAN ([Article](http://openaccess.thecvf.com/content_ICCV_2017/papers/Mao_Least_Squares_Generative_ICCV_2017_paper.pdf))\n",
    "\n",
    "_Stabilizing training with linear algebra <3_  \n",
    "**Week 11**: Are gans created equal? a large-scale study ([Article](http://papers.nips.cc/paper/7350-are-gans-created-equal-a-large-scale-study.pdf))\n",
    "\n",
    "_Applications:_  \n",
    "**Week 12**: Unpaired Image-to-Image Translation using Cycle-Consistent Adversarial Networks ([Article](http://openaccess.thecvf.com/content_ICCV_2017/papers/Zhu_Unpaired_Image-To-Image_Translation_ICCV_2017_paper.pdf))\n",
    "\n",
    "**Week 13**: Unsupervidsed Representation Learning With Deep Convolutional Generative Adversarial Networks ([Article](https://arxiv.org/pdf/1511.06434.pdf))\n",
    "\n"
   ]
  }
 ],
 "metadata": {
  "kernelspec": {
   "display_name": "Python 3",
   "language": "python",
   "name": "python3"
  },
  "language_info": {
   "codemirror_mode": {
    "name": "ipython",
    "version": 3
   },
   "file_extension": ".py",
   "mimetype": "text/x-python",
   "name": "python",
   "nbconvert_exporter": "python",
   "pygments_lexer": "ipython3",
   "version": "3.6.8"
  }
 },
 "nbformat": 4,
 "nbformat_minor": 2
}
