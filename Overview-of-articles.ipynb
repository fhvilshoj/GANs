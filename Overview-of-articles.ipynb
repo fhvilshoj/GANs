{
 "cells": [
  {
   "cell_type": "markdown",
   "metadata": {},
   "source": [
    "# Overview of articles\n",
    "\n",
    "_Introductory articles:_  \n",
    "[Generative adversarial nets](https://scholar.google.com/scholar_url?url=http://papers.nips.cc/paper/5423-generative-adversarial-nets.pdf&hl=en&sa=T&oi=gsb-gga&ct=res&cd=1&d=11977070277539609369&ei=33BIXMf1M8KVmAHyyJnQCg&scisig=AAGBfm1_PAGbFd1N3ZcQl_vwVHCEeKz1FQ) (Week 4)\n",
    "\n",
    "[NIPS 2016 Tutorial: Generative Adversarial Networks](https://arxiv.org/pdf/1701.00160.pdf) (Week 5)\n",
    "\n",
    "[f-GAN: Training Generative Neural Samplers using Variational Divergence Minimization](http://papers.nips.cc/paper/6066-f-gan-training-generative-neural-samplers-using-variational-divergence-minimization.pdf) (Week 6)\n",
    "\n",
    "_Different types of GANs:_  \n",
    "[Wasserstein Generative Adversarial Networks](http://proceedings.mlr.press/v70/arjovsky17a/arjovsky17a.pdf) (Week 7)\n",
    "\n",
    "[Infogan: Interpretable Representation Learning by Information Maximizing Generative Adversarial Nets](https://arxiv.org/pdf/1606.03657.pdf) (Week 8)\n",
    "\n",
    "[Least Squares GAN](http://openaccess.thecvf.com/content_ICCV_2017/papers/Mao_Least_Squares_Generative_ICCV_2017_paper.pdf) (Week 9)\n",
    "\n",
    "_Stabilizing training with linear algebra <3_  \n",
    "[Spectral Normalization for GANs](https://arxiv.org/pdf/1802.05957) (Week 10)\n",
    "\n",
    "[Are gans created equal? a large-scale study](http://papers.nips.cc/paper/7350-are-gans-created-equal-a-large-scale-study.pdf)(Week 11)\n",
    "\n",
    "_Applications:_  \n",
    "[Unpaired Image-to-Image Translation using Cycle-Consistent Adversarial Networks](http://openaccess.thecvf.com/content_ICCV_2017/papers/Zhu_Unpaired_Image-To-Image_Translation_ICCV_2017_paper.pdf) (Week 12)\n",
    "\n",
    "[Unsupervidsed Representation Learning With Deep Convolutional Generative Adversarial Networks](https://arxiv.org/pdf/1511.06434.pdf) (Week 13)\n",
    "\n"
   ]
  }
 ],
 "metadata": {
  "kernelspec": {
   "display_name": "Python 3",
   "language": "python",
   "name": "python3"
  },
  "language_info": {
   "codemirror_mode": {
    "name": "ipython",
    "version": 3
   },
   "file_extension": ".py",
   "mimetype": "text/x-python",
   "name": "python",
   "nbconvert_exporter": "python",
   "pygments_lexer": "ipython3",
   "version": "3.6.8"
  }
 },
 "nbformat": 4,
 "nbformat_minor": 2
}
